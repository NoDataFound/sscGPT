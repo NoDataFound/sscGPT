{
 "cells": [
  {
   "cell_type": "code",
   "execution_count": 1,
   "id": "89a13ba3-7bbc-4351-bd56-380479dcd576",
   "metadata": {},
   "outputs": [
    {
     "name": "stdout",
     "output_type": "stream",
     "text": [
      "\u001b[38;2;40;0;220m\u001b[0m\n",
      "\u001b[38;2;55;0;220m░▒█▀▀▀█░█▀▀░█▀▄░█░▒█░█▀▀▄░░▀░░▀█▀░█░░█░░░▒█▀▀▀█░█▀▄░▄▀▀▄░█▀▀▄░█▀▀░█▀▄░█▀▀▄░█▀▀▄░▒█▀▀▄ \u001b[0m\n",
      "\u001b[38;2;70;0;220m ░▀▀▀▄▄░█▀▀░█░░░█░▒█░█▄▄▀░░█▀░░█░░█▄▄█░░░░▀▀▀▄▄░█░░░█░░█░█▄▄▀░█▀▀░█░░░█▄▄█░█▄▄▀░▒█░▒█ \u001b[0m\n",
      "\u001b[38;2;85;0;220m░▒█▄▄▄█░▀▀▀░▀▀▀░░▀▀▀░▀░▀▀░▀▀▀░░▀░░▄▄▄▀░░░▒█▄▄▄█░▀▀▀░░▀▀░░▀░▀▀░▀▀▀░▀▀▀░▀░░▀░▀░▀▀░▒█▄▄█ \u001b[0m\n",
      "\u001b[38;2;100;0;220m╔──────────────────────-= SecurityScorecard API Notebook─────────────── ¤ ◎ ¤ ──────╗\u001b[0m\n",
      "\u001b[38;2;115;0;220m║  ┌¤───────────────────────────────────┬────────────────────────Requirements───┐   ║ \u001b[0m\n",
      "\u001b[38;2;130;0;220m╚──│  Format......: json                │  Payload..........: /input/asi_search │───╝  \u001b[0m\n",
      "\u001b[38;2;145;0;220m   │  Date........: Nov 11,1999         │  API Token......: [********--] 08/10  │\u001b[0m\n",
      "\u001b[38;2;160;0;220m   ╚────────────────────────────────────┴───────────────────────────────────────╝\u001b[0m\n",
      "\n"
     ]
    }
   ],
   "source": [
    "\n",
    "#ASI banner\n",
    "import fade\n",
    "ssctxt= \"\"\"\n",
    "░▒█▀▀▀█░█▀▀░█▀▄░█░▒█░█▀▀▄░░▀░░▀█▀░█░░█░░░▒█▀▀▀█░█▀▄░▄▀▀▄░█▀▀▄░█▀▀░█▀▄░█▀▀▄░█▀▀▄░▒█▀▀▄ \n",
    " ░▀▀▀▄▄░█▀▀░█░░░█░▒█░█▄▄▀░░█▀░░█░░█▄▄█░░░░▀▀▀▄▄░█░░░█░░█░█▄▄▀░█▀▀░█░░░█▄▄█░█▄▄▀░▒█░▒█ \n",
    "░▒█▄▄▄█░▀▀▀░▀▀▀░░▀▀▀░▀░▀▀░▀▀▀░░▀░░▄▄▄▀░░░▒█▄▄▄█░▀▀▀░░▀▀░░▀░▀▀░▀▀▀░▀▀▀░▀░░▀░▀░▀▀░▒█▄▄█ \n",
    "╔──────────────────────-= SecurityScorecard API Notebook─────────────── ¤ ◎ ¤ ──────╗\n",
    "║  ┌¤───────────────────────────────────┬────────────────────────Requirements───┐   ║ \n",
    "╚──│  Format......: json                │  Payload..........: /input/asi_search │───╝  \n",
    "   │  Date........: Nov 11,1999         │  API Token......: [********--] 08/10  │\n",
    "   ╚────────────────────────────────────┴───────────────────────────────────────╝\"\"\"\n",
    "fadedssc = fade.purplepink(ssctxt)\n",
    "print(fadedssc)                                                          "
   ]
  },
  {
   "cell_type": "code",
   "execution_count": null,
   "id": "d19f8ce8",
   "metadata": {
    "vscode": {
     "languageId": "shellscript"
    }
   },
   "outputs": [],
   "source": [
    "#Upload output to MISP\n",
    "!for i in $(find output/ -name '*.txt' -or -name '*.json') ; do (python3 Toolkit/freetext.py -e 10503 -i $i); done"
   ]
  },
  {
   "cell_type": "code",
   "execution_count": 32,
   "id": "3819d7e2",
   "metadata": {},
   "outputs": [
    {
     "name": "stdout",
     "output_type": "stream",
     "text": [
      "\u001b[38;2;110;0;255m𝗦𝗲𝗮𝗿𝗰𝗵:\u001b[0m\n",
      " \u001b[38;2;110;0;255m\t\"query\": \"170.224.210.242\"\u001b[0m\n",
      "\n"
     ]
    }
   ],
   "source": [
    "#ASI API Setup\n",
    "from dotenv import load_dotenv\n",
    "import os\n",
    "import fade\n",
    "from pathlib import Path\n",
    "load_dotenv(\".env\")  \n",
    "apiToken = os.environ.get('ASI_TOKEN')\n",
    "\n",
    "if 'ASI_TOKEN' in os.environ:\n",
    "   pass\n",
    "else:\n",
    "   error='''           \n",
    "                     *   )           )            (   \n",
    "                     `(     ( /((        (  (      )\\   \n",
    "                      )\\(   )\\())\\  (    )\\))(  ((((_) \n",
    "                     ((_)\\ (_))((_) )\\ ) ((   ))\\  )\\) \n",
    "                     8\"\"\"\" 8\"\"\"8  8\"\"\"8  8\"\"\"88 8\"\"\"8  \n",
    "                     8     8   8  8   8  8    8 8   8  \n",
    "                     8eeee 8eee8e 8eee8e 8    8 8eee8e \n",
    "                     88    88   8 88   8 8    8 88   8 \n",
    "                     88    88   8 88   8 8    8 88   8 \n",
    "                     88eee 88   8 88   8 8eeee8 88   8 \n",
    "                                  \n",
    "   \\033[1;33mAttempting to Set SecurityScorecard system variable with API key.\n",
    "\n",
    "                      \\033[0;37mExample: \\033[40m$ 𝚎𝚡𝚙𝚘𝚛𝚝 𝙰𝚂𝙸_𝚃𝙾𝙺𝙴𝙽=\"𝙰𝚂𝙸 𝚃𝚘𝚔𝚎𝚗\"\n",
    "                      \\033[0;37mSee sample \\033[40m.𝚎𝚗𝚟\\033[0;37m file for formating.'''\n",
    "\n",
    "\n",
    "   fadederror = fade.fire(error)\n",
    "   print(fadederror)\n",
    "   Path(\".env\").touch()\n",
    "   setting_token = open(\".env\", \"a\")\n",
    "   userkey = input('Enter API Key: ').replace(\" \",\"\")\n",
    "   setting_token.write(\"ASI_TOKEN=\"+'\"'+userkey+'\"')\n",
    "   \n",
    "data_payload = \"input/ASI/ASI_search\"\n",
    "search = open(data_payload ,\"r\")\n",
    "fadedsearch =\"𝗦𝗲𝗮𝗿𝗰𝗵:\"\n",
    "tookewl=fade.purpleblue(fadedsearch)\n",
    "\n",
    "\n",
    "query = (search.read().partition('\\n')[2].partition(',')[0])\n",
    "threekewl=fade.purpleblue(query)\n",
    "print(tookewl,threekewl)\n",
    "# Change input/asi_search \"query\": to search for something new\n",
    "# Hacker points.  Add your own input prompt to this and re-write the file!\n"
   ]
  },
  {
   "cell_type": "code",
   "execution_count": 14,
   "id": "75a9f5b9",
   "metadata": {},
   "outputs": [
    {
     "name": "stdout",
     "output_type": "stream",
     "text": [
      "\u001b[38;2;0;255;100m\u001b[0m\n",
      "\u001b[38;2;0;255;115m\u001b[0m\n",
      "\u001b[38;2;0;255;130m            _______       __ __        ___                __                      \u001b[0m\n",
      "\u001b[38;2;0;255;145m           |   _   .--.--|  |  |--.   |   |  .-----.-----|  |--.--.--.-----.-----.\u001b[0m\n",
      "\u001b[38;2;0;255;160m           |.  1   |  |  |  |    <    |.  |  |  _  |  _  |    <|  |  |  _  |__ --|\u001b[0m\n",
      "\u001b[38;2;0;255;175m           |.  _   |_____|__|__|__|   |.  |__|_____|_____|__|__|_____|   __|_____|\u001b[0m\n",
      "\u001b[38;2;0;255;190m           |:  1    \\                 |:  1   |                      |__|         \u001b[0m\n",
      "\u001b[38;2;0;255;205m           |::.. .  /                 |::.. . |                                   \u001b[0m\n",
      "\u001b[38;2;0;255;220m           `-------'                  `-------'                                   \u001b[0m\n",
      "\u001b[38;2;0;255;235m\u001b[0m\n",
      "\n"
     ]
    }
   ],
   "source": [
    "\n",
    "import fade\n",
    "ssctxt= \"\"\"\n",
    "\n",
    "            _______       __ __        ___                __                      \n",
    "           |   _   .--.--|  |  |--.   |   |  .-----.-----|  |--.--.--.-----.-----.\n",
    "           |.  1   |  |  |  |    <    |.  |  |  _  |  _  |    <|  |  |  _  |__ --|\n",
    "           |.  _   |_____|__|__|__|   |.  |__|_____|_____|__|__|_____|   __|_____|\n",
    "           |:  1    \\                 |:  1   |                      |__|         \n",
    "           |::.. .  /                 |::.. . |                                   \n",
    "           `-------'                  `-------'                                   \n",
    "\n",
    "\"\"\"\n",
    "fadedssc = fade.greenblue(ssctxt)\n",
    "print(fadedssc)\n",
    "\n",
    "                                                         \n"
   ]
  },
  {
   "cell_type": "markdown",
   "id": "3fdf50ba",
   "metadata": {},
   "source": [
    "`Bulk ASI Search | CSV & JSON | Zip Results`"
   ]
  },
  {
   "cell_type": "code",
   "execution_count": null,
   "id": "5bfe9e9f",
   "metadata": {},
   "outputs": [],
   "source": [
    "#Bulk ASI Search\n",
    "#!/usr/bin/env python3\n",
    "# -*- coding: utf-8 -*-\n",
    "import fade\n",
    "import json\n",
    "import requests\n",
    "import urllib.parse\n",
    "import urllib.request\n",
    "import argparse\n",
    "import sys\n",
    "import os\n",
    "import csv\n",
    "import shutil\n",
    "from os import path\n",
    "from shutil import make_archive\n",
    "from directory_structure import Tree\n",
    "from alive_progress import alive_bar\n",
    "import time\n",
    "from dotenv import load_dotenv\n",
    "load_dotenv()  \n",
    "apiToken = os.environ.get(\"ASI_TOKEN\")\n",
    "\n",
    "targets = \"input/ASI/yaling.txt\"\n",
    "search = open(targets ,\"r\")\n",
    "fadedsearch =\"\"\"\n",
    "                                               __         \n",
    "                                              /\\ \\        \n",
    "              ____     __     __    _ __   ___\\ \\ \\___    \n",
    "             /',__\\  /'__`\\ /'__`\\ /\\`'__\\/'___\\ \\  _ `\\  \n",
    "            /\\__, `\\/\\  __//\\ \\L\\.\\  \\ \\ /\\ \\__/\\ \\ \\ \\ \\ \n",
    "            \\/\\____/\\ \\____\\ \\__/.\\_\\ \\_\\  \\_____:.\\ \\ \\ \\.\n",
    "             \\/___/  \\/____/\\/__/\\/_/\\/_/ \\/____/ \\/_/\\/_/\n",
    "                                              executing...\"\"\"\n",
    "tookewl=fade.purplepink(fadedsearch)\n",
    "print(tookewl)\n",
    "\n",
    "ssc_targets = []\n",
    "\n",
    "if 'ASI_TOKEN' in os.environ:\n",
    "    pass\n",
    "else:\n",
    "    os.environ['ASI_TOKEN'] = input('Enter API Key: ').replace(\" \",\"\")\n",
    "investigation = input(\"Enter name for your investigation: \")\n",
    "token = os.environ.get(\"ASI_TOKEN\")\n",
    "\n",
    "os.mkdir('output/'+investigation)\n",
    "os.mkdir('output/'+investigation+'/assets/')\n",
    "os.mkdir('output/'+investigation+'/assets/json/')\n",
    "os.mkdir('output/'+investigation+'/assets/csv/')\n",
    "\n",
    "\n",
    "os.mkdir('output/'+investigation+'/facets/')\n",
    "os.mkdir('output/'+investigation+'/facets/json/')\n",
    "os.mkdir('output/'+investigation+'/facets/csv/')\n",
    "\n",
    "headers = {\n",
    "                \"Accept\": \"application/json; charset=utf-8\",\n",
    "                \"Authorization\": \"Token \" + token,\n",
    "\n",
    "             }\n",
    "with open(targets, 'r') as targets:\n",
    "    assets = 'output/'+investigation+'/assets/json/'\n",
    "    asset_csv = 'output/'+investigation+'/assets/csv/'\n",
    "    for line in targets:\n",
    "        #print (\"\\033[0;36m\",line.strip())\n",
    "        ssc_targets.append(line)\n",
    "        \n",
    "    \n",
    "    for search in ssc_targets:\n",
    "        search = search.strip()\n",
    "        searchurl = 'https://platform-api.securityscorecard.io/asi/search'\n",
    "        data = {\n",
    "\t            \"query\": \"\"+search+\"\",\n",
    "\t            \"cursor\": \"initial\",\n",
    "\t            \"size\": 1000\n",
    "                }\n",
    "        response = requests.post(searchurl, headers = headers, json = data).json()\n",
    "        results = json.dumps(response, indent=4, sort_keys=True)\n",
    "        jsonout = open('output/'+investigation+ '/facets/json/'+search+ \".json\", \"w\")\n",
    "        jsonout.write(results)\n",
    "        #print(results)\n",
    "        \n",
    "\n",
    "a_csvpath = 'output/'+investigation+ '/assets/csv'\n",
    "f_jsonpath = 'output/'+investigation+ '/facets/json'\n",
    "\n",
    "\n",
    "shutil.make_archive('output/'+investigation+ '/csvAssets', 'zip', a_csvpath)\n",
    "shutil.make_archive('output/'+investigation+ '/jsonFacets', 'zip',f_jsonpath)\n",
    "\n",
    "path = Tree(f_jsonpath, absolute=False)\n",
    "print(path)\n"
   ]
  },
  {
   "cell_type": "code",
   "execution_count": 7,
   "id": "efd563ef",
   "metadata": {},
   "outputs": [
    {
     "name": "stdout",
     "output_type": "stream",
     "text": [
      "\u001b[38;2;40;0;220m\u001b[0m\n",
      "\u001b[38;2;55;0;220m         support.securityscorecard.com/hc/en-us/articles/7659237759515\u001b[0m\n",
      "\u001b[38;2;70;0;220m                            .______  .________.___     \u001b[0m\n",
      "\u001b[38;2;85;0;220m                            :      \\ |    ___/: __|    \u001b[0m\n",
      "\u001b[38;2;100;0;220m                            |   .   ||___    \\| : |    \u001b[0m\n",
      "\u001b[38;2;115;0;220m                            |   :   ||       /|   |    \u001b[0m\n",
      "\u001b[38;2;130;0;220m                            |___|   ||__:___/ |   |    \u001b[0m\n",
      "\u001b[38;2;145;0;220m                                |___|   :     |___|    \u001b[0m\n",
      "\u001b[38;2;160;0;220m                                             \u001b[0;34mFacets                                       \u001b[0m\n",
      "\u001b[38;2;175;0;220m \u001b[0m\n",
      "\n"
     ]
    }
   ],
   "source": [
    "\n",
    "#ASI Facets\n",
    "import fade\n",
    "ssctxt= \"\"\"\n",
    "         support.securityscorecard.com/hc/en-us/articles/7659237759515\n",
    "                            .______  .________.___     \n",
    "                            :      \\ |    ___/: __|    \n",
    "                            |   .   ||___    \\| : |    \n",
    "                            |   :   ||       /|   |    \n",
    "                            |___|   ||__:___/ |   |    \n",
    "                                |___|   :     |___|    \n",
    "                                             \\033[0;34mFacets                                       \n",
    " \"\"\"\n",
    "fadedssc = fade.purplepink(ssctxt)\n",
    "print(fadedssc)"
   ]
  },
  {
   "cell_type": "markdown",
   "id": "8c144bcd",
   "metadata": {},
   "source": [
    "Single Lookups - Stepping Through API `.facets | keys`"
   ]
  },
  {
   "cell_type": "code",
   "execution_count": 9,
   "id": "e9373c13-2c35-41e0-9a23-0d586c7fc5ee",
   "metadata": {
    "tags": [],
    "vscode": {
     "languageId": "shellscript"
    }
   },
   "outputs": [
    {
     "name": "stdout",
     "output_type": "stream",
     "text": [
      "\u001b[0;32mHere are some facet keys:\n",
      "+─────────────────────────────────────────────────────────────────────────────────── ¤ ◎ ¤───+\u001b[0m\n",
      "[\n",
      "  \"countries\",\n",
      "  \"cves\",\n",
      "  \"orgs\",\n",
      "  \"ports\",\n",
      "  \"products\",\n",
      "  \"threatActors\"\n",
      "]\n"
     ]
    }
   ],
   "source": [
    "\n",
    "%%sh\n",
    "api=$(echo ${ASI_TOKEN})\n",
    "#set if needed with: export ASI_TOKEN=\"YOUR ASI KEY\"\n",
    "echo \"\\033[0;32mHere are some facet keys:\"\n",
    "echo \"+─────────────────────────────────────────────────────────────────────────────────── ¤ ◎ ¤───+\\033[0m\"\n",
    "curl -s -X POST \"https://platform-api.securityscorecard.io/asi/search\"  -d @input/ASI/ASI_search \\\n",
    "     -H 'Content-Type: application/json' -H 'Authorization: Token '\"$api\" | \\\n",
    "      jq '.facets | keys '\n"
   ]
  },
  {
   "cell_type": "code",
   "execution_count": 10,
   "id": "584efd66-9b6d-467c-a90a-75af67baba43",
   "metadata": {
    "tags": [],
    "vscode": {
     "languageId": "shellscript"
    }
   },
   "outputs": [
    {
     "name": "stdout",
     "output_type": "stream",
     "text": [
      "\n",
      "\n",
      "\u001b[0;31mYour Search:\u001b[0;36m { \"query\": \"os_type:'FortiOS'\",\n",
      "\u001b[0;32m+─────────────────────────────────────────────────────────────────────────────────── ¤ ◎ ¤───+\u001b[0m\n",
      "APT37\n",
      "Packrat\n",
      "Cobalt Group\n",
      "Sandworm Team\n",
      "APT28\n",
      "APT35\n",
      "APT39\n",
      "Kimsuky\n",
      "El-Machete\n",
      "DragonFly\n"
     ]
    }
   ],
   "source": [
    "\n",
    "%%sh\n",
    "api=$(echo ${ASI_TOKEN})\n",
    "#set if needed with: export ASI_TOKEN=\"YOUR ASI KEY\"\n",
    "echo \"\\n\"\n",
    "echo \"\\033[0;31mYour Search:\\033[0;36m\" $(head -n2 <\"input/ASI/ASI_search\")\n",
    "echo \"\\033[0;32m+─────────────────────────────────────────────────────────────────────────────────── ¤ ◎ ¤───+\\033[0m\"\n",
    "curl -s -X POST \"https://platform-api.securityscorecard.io/asi/search\"  -d @input/ASI/ASI_search \\\n",
    "     -H 'Content-Type: application/json' -H 'Authorization: Token '\"$api\" | \\\n",
    "    jq -r '.facets.threatActors[].name' "
   ]
  },
  {
   "cell_type": "code",
   "execution_count": null,
   "id": "c85aefe1-8d6a-4c2f-9ff7-49cf07a1f367",
   "metadata": {
    "jupyter": {
     "outputs_hidden": true,
     "source_hidden": true
    },
    "tags": [],
    "vscode": {
     "languageId": "shellscript"
    }
   },
   "outputs": [],
   "source": [
    "\n",
    "%%sh\n",
    "api=$(echo ${ASI_TOKEN})\n",
    "#set if needed with: export ASI_TOKEN=\"YOUR ASI KEY\"\n",
    "echo \"\\n\"\n",
    "echo \"\\033[0;36mYour Search:\\033[0;31m\" $(head -n2 <\"input/ASI/ASI_search\")\n",
    "echo \"\\033[0;32m+─────────────────────────────────────────────────────────────────────────────────── ¤ ◎ ¤───+\\033[0m\"\n",
    "curl -s -X POST \"https://platform-api.securityscorecard.io/asi/search\"  -d @input/ASI/ASI_search \\\n",
    "    -H 'Content-Type: application/json' -H 'Authorization: Token '\"$api\" | \\\n",
    "    jq -r '.facets.countries[].name,.facets.cves[].name,.facets.orgs[].name,.facets.ports[].name,.facets.products[].name,.facets.threatActors[].name'\n"
   ]
  },
  {
   "cell_type": "markdown",
   "id": "f10a172a",
   "metadata": {},
   "source": [
    "Single Lookups - Stepping Through API `facets[].hits[0] | keys`"
   ]
  },
  {
   "cell_type": "code",
   "execution_count": 12,
   "id": "2e2a4c28",
   "metadata": {
    "vscode": {
     "languageId": "shellscript"
    }
   },
   "outputs": [
    {
     "name": "stdout",
     "output_type": "stream",
     "text": [
      "\u001b[0;36mHere are some response[hit] keys:\u001b[0;31m\n",
      "\u001b[0;32m+─────────────────────────────────────────────────────────────────────────────────── ¤ ◎ ¤───+\u001b[0m\n",
      "[\n",
      "  \"cloud\",\n",
      "  \"cloudRegion\",\n",
      "  \"country\",\n",
      "  \"countryCode\",\n",
      "  \"cpe\",\n",
      "  \"cves\",\n",
      "  \"cvss\",\n",
      "  \"detectedLibraries\",\n",
      "  \"detectedLibraryVersion\",\n",
      "  \"deviceType\",\n",
      "  \"dnsRecords\",\n",
      "  \"domains\",\n",
      "  \"grade\",\n",
      "  \"hasCVE\",\n",
      "  \"hasCVEExploited\",\n",
      "  \"hasInfection\",\n",
      "  \"hasMalrep\",\n",
      "  \"hasRansomware\",\n",
      "  \"hasSSLCert\",\n",
      "  \"hasScorecard\",\n",
      "  \"hasThreatActor\",\n",
      "  \"hostnames\",\n",
      "  \"id\",\n",
      "  \"industries\",\n",
      "  \"infections\",\n",
      "  \"ips\",\n",
      "  \"mainAttribution\",\n",
      "  \"maliciousReputation\",\n",
      "  \"minGrade\",\n",
      "  \"organizations\",\n",
      "  \"osTypes\",\n",
      "  \"ports\",\n",
      "  \"products\",\n",
      "  \"ransomwareGroups\",\n",
      "  \"ransomwareVictims\",\n",
      "  \"services\",\n",
      "  \"sslValid\",\n",
      "  \"threatActors\",\n",
      "  \"time\"\n",
      "]\n"
     ]
    }
   ],
   "source": [
    "\n",
    "%%sh\n",
    "api=$(echo ${ASI_TOKEN})\n",
    "#set if needed with: export ASI_TOKEN=\"YOUR ASI KEY\"\n",
    "echo \"\\033[0;36mHere are some response[hit] keys:\\033[0;31m\" \n",
    "echo \"\\033[0;32m+─────────────────────────────────────────────────────────────────────────────────── ¤ ◎ ¤───+\\033[0m\"\n",
    "curl -s -X POST \"https://platform-api.securityscorecard.io/asi/search\"  -d @input/ASI/ASI_search \\\n",
    "     -H 'Content-Type: application/json' -H 'Authorization: Token '\"$api\" | \\\n",
    "      jq '.hits[0] | keys '"
   ]
  },
  {
   "cell_type": "code",
   "execution_count": null,
   "id": "66ad6965",
   "metadata": {
    "vscode": {
     "languageId": "shellscript"
    }
   },
   "outputs": [],
   "source": [
    "\n",
    "\n",
    "%%sh\n",
    "api=$(echo ${ASI_TOKEN})\n",
    "#set if needed with: export ASI_TOKEN=\"YOUR ASI KEY\"\n",
    "echo \"\\n\"\n",
    "echo \"\\033[0;36mYour Search:\\033[0;31m\" $(head -n2 <\"input/ASI/ASI_search_v2\")\n",
    "echo \"\\033[0;32m+─────────────────────────────────────────────────────────────────────────────────── ¤ ◎ ¤───+\\033[0m\"\n",
    "curl -s -X POST \"https://platform-api.securityscorecard.io/asi/search\"  -d @input/ASI/ASI_search_v2 \\\n",
    "     -H 'Content-Type: application/json' -H 'Authorization: Token '\"$api\" | \\\n",
    "    jq -r '.hits[].hasCVE'"
   ]
  },
  {
   "cell_type": "code",
   "execution_count": null,
   "id": "658255ea",
   "metadata": {
    "vscode": {
     "languageId": "shellscript"
    }
   },
   "outputs": [],
   "source": [
    "\n",
    "%%sh\n",
    "api=$(echo ${ASI_TOKEN})\n",
    "#set if needed with: export ASI_TOKEN=\"YOUR ASI KEY\"\n",
    "echo \"\\n\"\n",
    "echo \"\\033[0;36mYour Search:\\033[0;31m\" $(head -n2 <\"input/ASI/ASI_search_v2\")\n",
    "echo \"\\033[0;32m+─────────────────────────────────────────────────────────────────────────────────── ¤ ◎ ¤───+\\033[0m\"\n",
    "curl -s -X POST \"https://platform-api.securityscorecard.io/asi/search\"  -d @input/ASI/ASI_search_v2 \\\n",
    "     -H 'Content-Type: application/json' -H 'Authorization: Token '\"$api\" | \\\n",
    "jq -r '.hits[].cloud,.hits[].cloudRegion,.hits[].country,.hits[].countryCode,.hits[].cpe,.hits[].cves,.hits[].cvss,.hits[].detectedLibraries,.hits[].detectedLibraryVersion,.hits[].deviceType,.hits[].dnsRecords,.hits[].domains,.hits[].grade,.hits[].hasCVE,.hits[].hasCVEExploited,.hits[].hasInfection,.hits[].hasMalrep,.hits[].hasRansomware,.hits[].hasSSLCert,.hits[].hasScorecard,.hits[].hasThreatActor,.hits[].hostnames,.hits[].id,.hits[].industries,.hits[].infections,.hits[].ips,.hits[].mainAttribution,.hits[].maliciousReputation,.hits[].minGrade,.hits[].organizations,.hits[].osTypes,.hits[].ports,.hits[].products,.hits[].ransomwareGroups,.hits[].ransomwareVictims,.hits[].services,.hits[].sslValid,.hits[].threatActors,.hits[].time'"
   ]
  },
  {
   "cell_type": "code",
   "execution_count": 2,
   "id": "75a9f5b9",
   "metadata": {},
   "outputs": [
    {
     "name": "stdout",
     "output_type": "stream",
     "text": [
      "\u001b[38;2;255;250;0m\u001b[0m\n",
      "\u001b[38;2;255;225;0m                          abandon hope, all ye who enter here\u001b[0m\n",
      "\u001b[38;2;255;200;0m                ▄▄▄█████▓▓█████   ██████ ▄▄▄█████▓ ██▓ ███▄    █   ▄████ \u001b[0m\n",
      "\u001b[38;2;255;175;0m                ▓  ██▒ ▓▒▓█   ▀ ▒██    ▒ ▓  ██▒ ▓▒▓██▒ ██ ▀█   █  ██▒ ▀█▒\u001b[0m\n",
      "\u001b[38;2;255;150;0m                ▒ ▓██░ ▒░▒███   ░ ▓██▄   ▒ ▓██░ ▒░▒██▒▓██  ▀█ ██▒▒██░▄▄▄░\u001b[0m\n",
      "\u001b[38;2;255;125;0m                ░ ▓██▓ ░ ▒▓█  ▄   ▒   ██▒░ ▓██▓ ░ ░██░▓██▒  ▐▌██▒░▓█  ██▓\u001b[0m\n",
      "\u001b[38;2;255;100;0m                  ▒██▒ ░ ░▒████▒▒██████▒▒  ▒██▒ ░ ░██░▒██░   ▓██░░▒▓███▀▒\u001b[0m\n",
      "\u001b[38;2;255;75;0m                  ▒ ░░   ░░ ▒░ ░▒ ▒▓▒ ▒ ░  ▒ ░░   ░▓  ░ ▒░   ▒ ▒  ░▒   ▒ \u001b[0m\n",
      "\u001b[38;2;255;50;0m                    ░     ░ ░  ░░ ░▒  ░ ░    ░     ▒ ░░ ░░   ░ ▒░  ░   ░ \u001b[0m\n",
      "\u001b[38;2;255;25;0m                  ░         ░   ░  ░  ░    ░       ▒ ░   ░   ░ ░ ░ ░   ░ \u001b[0m\n",
      "\u001b[38;2;255;0;0m                            ░  ░      ░            ░           ░       ░  \u001b[0m\n",
      "\u001b[38;2;255;0;0m                                   Do not trust data from anything below\u001b[0m\n",
      "\n"
     ]
    }
   ],
   "source": [
    "\n",
    "import fade\n",
    "ssctxt= \"\"\"\n",
    "                          abandon hope, all ye who enter here\n",
    "                ▄▄▄█████▓▓█████   ██████ ▄▄▄█████▓ ██▓ ███▄    █   ▄████ \n",
    "                ▓  ██▒ ▓▒▓█   ▀ ▒██    ▒ ▓  ██▒ ▓▒▓██▒ ██ ▀█   █  ██▒ ▀█▒\n",
    "                ▒ ▓██░ ▒░▒███   ░ ▓██▄   ▒ ▓██░ ▒░▒██▒▓██  ▀█ ██▒▒██░▄▄▄░\n",
    "                ░ ▓██▓ ░ ▒▓█  ▄   ▒   ██▒░ ▓██▓ ░ ░██░▓██▒  ▐▌██▒░▓█  ██▓\n",
    "                  ▒██▒ ░ ░▒████▒▒██████▒▒  ▒██▒ ░ ░██░▒██░   ▓██░░▒▓███▀▒\n",
    "                  ▒ ░░   ░░ ▒░ ░▒ ▒▓▒ ▒ ░  ▒ ░░   ░▓  ░ ▒░   ▒ ▒  ░▒   ▒ \n",
    "                    ░     ░ ░  ░░ ░▒  ░ ░    ░     ▒ ░░ ░░   ░ ▒░  ░   ░ \n",
    "                  ░         ░   ░  ░  ░    ░       ▒ ░   ░   ░ ░ ░ ░   ░ \n",
    "                            ░  ░      ░            ░           ░       ░  \n",
    "                                   Do not trust data from anything below\"\"\"\n",
    "fadedssc = fade.fire(ssctxt)\n",
    "print(fadedssc)\n",
    "\n",
    "                                                         \n"
   ]
  },
  {
   "cell_type": "code",
   "execution_count": null,
   "id": "5114ed32",
   "metadata": {
    "vscode": {
     "languageId": "shellscript"
    }
   },
   "outputs": [],
   "source": [
    "#Convert JSON to CSV\n",
    "!find . -name '*.json' -type f | while read f ; do echo -n \"\"$f,\"\" ; do cat \"$f\" |jq -r '.hits[] | [.cloud,.cloudRegion,.country,.countryCode,.cpe,.cves,.cvss,.detectedLibraries,.detectedLibraryVersion,.deviceType,.dnsRecords,.domains,.grade,.hasCVE,.hasCVEExploited,.hasInfection,.hasMalrep,.hasRansomware,.hasSSLCert,.hasScorecard,.hasThreatActor,.hostnames,.id,.industries,.infections,.ips,.mainAttribution,.maliciousReputation,.minGrade,.organizations,.osTypes,.ports,.products,.ransomwareGroups,.ransomwareVictims,.services,.sslValid,.threatActors,.time|tostring]|@csv'  >>\"../csv/$f.csv\";done\n",
    "\n",
    "find . -name '*.json' -type f | while read f ; do echo -n \"$f,\" ; cat \"$f\" |"
   ]
  },
  {
   "cell_type": "code",
   "execution_count": 31,
   "id": "777eed01",
   "metadata": {},
   "outputs": [
    {
     "name": "stdout",
     "output_type": "stream",
     "text": [
      "CVE-2016-10708\n",
      "CVE-2019-6110\n",
      "CVE-2021-41617\n",
      "CVE-2019-6111\n",
      "CVE-2017-15906\n",
      "CVE-2020-14145\n",
      "CVE-2019-6109\n",
      "CVE-2018-20685\n",
      "CVE-2018-15919\n",
      "CVE-2018-15473\n"
     ]
    }
   ],
   "source": [
    "#Parsing tests\n",
    "import requests\n",
    "import json\n",
    "from dotenv import load_dotenv\n",
    "load_dotenv()  \n",
    "asi_key = os.environ.get(\"ASI_TOKEN\")\n",
    "\n",
    "url = \"https://platform-api.securityscorecard.io/asi/search\"  #asi Server\n",
    "    \n",
    "headers = {\n",
    "    \"Accept\": \"application/json; charset=utf-8\",\n",
    "    \"Authorization\": \"Token \" +asi_key,\n",
    "    }\n",
    "    #------------------------------------ search setup  ------------------------------------ \n",
    "    \n",
    "asseturl = 'https://platform-api.securityscorecard.io/asi/search'\n",
    "asiURL = \"https://platform.securityscorecard.io/#/asi/search/\"\n",
    "payload = {\n",
    "        \"query\": \"0.0.0.0\",\n",
    "        \"cursor\": \"initial\",\n",
    "        \"size\": 1000\n",
    "        }\n",
    "response = requests.post(asseturl, headers = headers, json = payload).json()\n",
    "\n",
    "cves = response['hits'][0]['cves']\n",
    "for cve in cves:\n",
    "    print(cve)\n",
    "#hasCVEExploited = str(response['hits'][0]['hasCVEExploited'])\n",
    "#hasInfection = str(response['hits'][0]['hasInfection'])\n",
    "#hasMalrep = str(response['hits'][0]['hasMalrep'])\n",
    "#hasRansomware = str(response['hits'][0]['hasRansomware'])\n",
    "#hasThreatActor = str(response['hits'][0]['hasThreatActor'])\n",
    "#print(hasCVE)\n",
    "#print(hasCVE,hasCVEExploited,hasInfection,hasMalrep,hasRansomware,hasThreatActor)"
   ]
  },
  {
   "cell_type": "code",
   "execution_count": null,
   "id": "945beb35",
   "metadata": {},
   "outputs": [],
   "source": [
    "#Basic text stats\n",
    "\n",
    "def main():\n",
    "\tLETTERS = ['a','b','c','d','e','f','g','h','i','j','k','l','m','n','o','p','q','r','s','t','u','v','w','x','y','z']\n",
    "\tinputFile = input('Enter the file name that has to be processed: ')\n",
    "\tprint ('The name of the file is: ', inputFile)\n",
    "\toutputFile = input('Enter the output file name: ')\n",
    "\tprint ('The name of the output file is: ', inputFile)\n",
    "\tcountLetters = {}\n",
    "\tglobalCount = 0\n",
    "\tfrequencyLetters = {}\n",
    "\twordCount = {}\n",
    "\n",
    "\ttry:\n",
    "\t\tinfile = open(inputFile,'r')\n",
    "\t\toutfile = open(outputFile,'w')\n",
    "\texcept FileNotFoundError as fileErr:\n",
    "\t\tprint(fileErr)\n",
    "\telse:\n",
    "\t\tcontent = infile.read()\n",
    "\t\tcontent.lower()\n",
    "\t\tnewContent = content.replace(' ','')\n",
    "\t\tglobalCount = len(newContent)\n",
    "\t\tnewStr = 'The count of the non white space characters in the file '+inputFile+' is: ' + str(len(newContent)) + '\\n\\n'\n",
    "\t\toutfile.write(newStr)\n",
    "\t\n",
    "\t\tcountLetters = countFrequency(content,LETTERS)\n",
    "\t\tnewStr = 'The count of the letters in the file '+inputFile+' is: \\n' \n",
    "\t\toutfile.write(newStr)\n",
    "\t\n",
    "\t\tfor key in countLetters:\n",
    "\t\t\tfreq = (countLetters[key] / globalCount ) * 100.0\n",
    "\t\t\tnewStr = 'Character = ' + key + ' ' +'Count = ' + str(countLetters[key]) + ' '+'Frequency = ' + str(freq) + '\\n'\n",
    "\t\t\toutfile.write(newStr)\n",
    "\t\n",
    "\t\tlistOfWords = content.split()\n",
    "\t\tnewStr = '\\nThe count of the words in the file '+inputFile+' is: ' + str(len(listOfWords))+ '\\n'\n",
    "\t\toutfile.write(newStr)\n",
    "\t\n",
    "\t\tfor words in listOfWords:\n",
    "\t\t\tif words in wordCount:\n",
    "\t\t\t\tcount = wordCount[words]\n",
    "\t\t\t\tcount = count + 1\n",
    "\t\t\t\tnewDict = {words:count}\n",
    "\t\t\t\twordCount.update(newDict)\n",
    "\t\t\telse:\n",
    "\t\t\t\tnewDict = {words:1}\n",
    "\t\t\t\twordCount.update(newDict)\n",
    "\t\tnewStr = '\\nThe top 10 words in the file '+inputFile+' is:' \n",
    "\t\toutfile.write(newStr)\n",
    "\t\tfor w in sorted(wordCount, key=wordCount.get, reverse=True):\n",
    "\t\t\tnewStr = '\\nWord = ' + w + '\\tCount = ' + str(wordCount[w])\n",
    "\t\t\toutfile.write(newStr)\n",
    "\t\n",
    "\tfinally:\n",
    "\t\tinfile.close()\n",
    "\t\toutfile.close()\n",
    "\t\t\n",
    "def countFrequency(content,LETTERS):\n",
    "\tcountLetter = {}\n",
    "\tfor letter in LETTERS:\n",
    "\t\tcount = content.count(letter)\n",
    "\t\tnewDict = {letter:count}\n",
    "\t\tcountLetter.update(newDict)\n",
    "\treturn countLetter\n",
    "\t\t\n",
    "main()"
   ]
  },
  {
   "cell_type": "code",
   "execution_count": null,
   "id": "535dfe12",
   "metadata": {
    "vscode": {
     "languageId": "shellscript"
    }
   },
   "outputs": [],
   "source": [
    "#Just API Notes\n",
    "find . -name '*.py' | while read f ; do cat \"$f\" | grep \"import\\|from\";done > requirements.txt\n",
    "\n",
    "find . -name '*.json' -type f | while read f ; do cat \"$f\" | \\\n",
    "jq -r \n",
    "'.hits[].cloudRegion,\n",
    ".hits[].country,\n",
    ".hits[].countryCode,\n",
    ".hits[].cpe,\n",
    ".hits[].cves,\n",
    ".hits[].cvss,\n",
    ".hits[].detectedLibraries,\n",
    ".hits[].detectedLibraryVersion,\n",
    ".hits[].deviceType,\n",
    ".hits[].dnsRecords,\n",
    ".hits[].domains,\n",
    ".hits[].grade,\n",
    ".hits[].hasCVE,\n",
    ".hits[].hasCVEExploited,\n",
    ".hits[].hasInfection,\n",
    ".hits[].hasMalrep,\n",
    ".hits[].hasRansomware,\n",
    ".hits[].hasSSLCert,\n",
    ".hits[].hasScorecard,\n",
    ".hits[].hasThreatActor,\n",
    ".hits[].hostnames,\n",
    ".hits[].id,\n",
    ".hits[].industries,\n",
    ".hits[].infections,\n",
    ".hits[].ips,\n",
    ".hits[].mainAttribution,\n",
    ".hits[].maliciousReputation,\n",
    ".hits[].minGrade,\n",
    ".hits[].organizations,\n",
    ".hits[].osTypes,\n",
    ".hits[].ports,\n",
    ".hits[].products,\n",
    ".hits[].ransomwareGroups,\n",
    ".hits[].ransomwareVictims,\n",
    ".hits[].services,\n",
    ".hits[].sslValid,\n",
    ".hits[].threatActors,\n",
    ".hits[].time| select( . != null )'  |uniq >> \"facets/csv/$f.csv\" ;done "
   ]
  },
  {
   "cell_type": "code",
   "execution_count": null,
   "id": "8d4400cd",
   "metadata": {
    "vscode": {
     "languageId": "shellscript"
    }
   },
   "outputs": [],
   "source": [
    "  \n",
    "%%sh \n",
    "\n",
    "api=$(echo ${ASI_TOKEN})\n",
    "#set if needed with: export ASI_TOKEN=\"YOUR ASI KEY\"\n",
    "curl -s -X POST \"https://platform-api.securityscorecard.io/asi/search\" -d @input/ASI/ASI_search \\\n",
    "    -H 'Content-Type: application/json' -H 'Authorization: Token '\"$api\" | \\\n",
    "       jq ."
   ]
  }
 ],
 "metadata": {
  "kernelspec": {
   "display_name": "Python 3 (ipykernel)",
   "language": "python",
   "name": "python3"
  },
  "language_info": {
   "codemirror_mode": {
    "name": "ipython",
    "version": 3
   },
   "file_extension": ".py",
   "mimetype": "text/x-python",
   "name": "python",
   "nbconvert_exporter": "python",
   "pygments_lexer": "ipython3",
   "version": "3.10.2"
  },
  "vscode": {
   "interpreter": {
    "hash": "f466c2928a3fd48c52e4a8995bbacf56d0e084441d05d5589ec03cd3bbdc9e7d"
   }
  }
 },
 "nbformat": 4,
 "nbformat_minor": 5
}
